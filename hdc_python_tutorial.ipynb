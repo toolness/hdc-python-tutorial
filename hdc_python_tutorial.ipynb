{
  "nbformat": 4,
  "nbformat_minor": 0,
  "metadata": {
    "colab": {
      "name": "hdc-learning-python-tutorial.ipynb",
      "version": "0.3.2",
      "provenance": [],
      "collapsed_sections": []
    },
    "kernelspec": {
      "name": "python3",
      "display_name": "Python 3"
    }
  },
  "cells": [
    {
      "metadata": {
        "id": "qvaZ-Wg-OpE8",
        "colab_type": "text"
      },
      "cell_type": "markdown",
      "source": [
        "# Learning Python with NYC housing data\n",
        "\n",
        "Let's see how this goes.\n",
        "\n",
        "## What is this thing?\n",
        "\n",
        "Right now you're using some software based on [Jupyter Notebook](https://jupyter.org/), an open-source web application that allows you to create and share documents that contain live code, equations, visualizations and the narrative text you're reading right now.\n",
        "\n",
        "It's pretty awesome, but it's not the only way to learn and use Python. If you want to hack on [nycdb](https://github.com/aepyornis/nyc-db), for instance, you'll want to learn how to use your computer's [command-line interface](https://tutorial.djangogirls.org/en/intro_to_command_line/), install [Python](https://tutorial.djangogirls.org/en/python_installation/) and a [code editor](https://tutorial.djangogirls.org/en/code_editor/), and learn [git](https://try.github.io/).  That's a whole lot to learn for a two-hour workshop, though, so we're going to short-circuit a bunch of it by using Jupyter. Just keep in mind that this isn't the _only_ way to program in Python!\n",
        "\n",
        "## What is Python?\n",
        "\n",
        "Python is a programming language that's used for almost everything, from building websites like Instagram, to scientific computing, machine learning, and [automating boring stuff](https://automatetheboringstuff.com/).\n",
        "\n",
        "It's also known for its readability. For instance, even though you might not know how to write it yet, you might be able to guess what the following code does:"
      ]
    },
    {
      "metadata": {
        "id": "Lnn4hpZDSItx",
        "colab_type": "code",
        "colab": {}
      },
      "cell_type": "code",
      "source": [
        "x = 5\n",
        "\n",
        "x = x * 2\n",
        "\n",
        "print(x)\n"
      ],
      "execution_count": 0,
      "outputs": []
    },
    {
      "metadata": {
        "id": "_CjbvyFqSvQV",
        "colab_type": "text"
      },
      "cell_type": "markdown",
      "source": [
        "What do you think the above code does?  You can try running it by clicking on the code and pressing `Ctrl` + `Enter` (or `Cmd`  + `Enter` if you're on a Mac).\n",
        "\n",
        "In Jupyter Notebook, the above code is called a **code cell**.\n",
        "\n",
        "### Things to try\n",
        "\n",
        "Try doing some of the following with the code cell above:\n",
        "\n",
        "1. Try deleting the first line. What do you think will happen if you re-run the cell?  Try it and find out!\n",
        "2. Try clicking right after the opening parenthesis in `print(x)` and press `Tab`.\n",
        "3. Try changing the word `print` to `lolprint`.  What do you think will happen if you re-run the cell?  Try it out!\n",
        "\n",
        "### Things to remember\n",
        "\n",
        "I'm going to talk about this during the workshop, but by the end of my blabbering you should hopefully understand that:\n",
        "\n",
        "* In the above code cell, `x` is a **variable** and `print` is a **function**.\n",
        "* The **state** of your program--the values of all its variables and some other things--is stored in Jupyter's **runtime**.  If your program ever gets into a weird state, you can always restart the runtime by going to the \"Runtime\" menu and choosing \"Restart runtime...\".\n",
        "* It is perfectly normal to have your program crash. It's how you learn!\n",
        "* Python is cool.\n",
        "\n",
        "If you're using this notebook in Google's Jupter Notebook-based environment, Google Colaboratory, you can learn more about its features at [Google's Colaboratory overview](https://colab.research.google.com/notebooks/basic_features_overview.ipynb)."
      ]
    },
    {
      "metadata": {
        "id": "AWqVH-dRahQA",
        "colab_type": "text"
      },
      "cell_type": "markdown",
      "source": [
        "## When things take too long\n",
        "\n",
        "When anyone is coding--it doesn't matter if they're a beginner or an expert--they're eventually going to write something that takes *way* too long to run. It's important to understand how to tell the computer to stop running it.\n",
        "\n",
        "Try running this, and see if you can figure out how to stop it:"
      ]
    },
    {
      "metadata": {
        "id": "tUuXAm8oaUEZ",
        "colab_type": "code",
        "colab": {}
      },
      "cell_type": "code",
      "source": [
        "x = 0\n",
        "\n",
        "while True:\n",
        "  x = x + 1"
      ],
      "execution_count": 0,
      "outputs": []
    },
    {
      "metadata": {
        "id": "j4Ugn6Dopnt5",
        "colab_type": "text"
      },
      "cell_type": "markdown",
      "source": [
        "## Writing a function\n",
        "\n",
        "You've seen Python's built-in `print` function. It's also possible to write your own functions. Let's try it out.\n",
        "\n",
        "A **Borough, Block, and Lot (BBL)** number is a set of three numbers that a lot of NYC agencies use to track building information.  For example, the BBL for 150 Court Street in Brooklyn is `3-292-26`.\n",
        "\n",
        "The first number identifies the borough a building is in.  Given the information from the [Wikipedia page for BBL](https://en.wikipedia.org/wiki/Borough,_Block_and_Lot), can you finish the following function that returns the name of a borough, given its borough number?"
      ]
    },
    {
      "metadata": {
        "id": "fE2nqjS2tTbl",
        "colab_type": "code",
        "colab": {}
      },
      "cell_type": "code",
      "source": [
        "def get_borough_name(num):\n",
        "  \"Given a borough number, return its name.\"\n",
        "\n",
        "  if num == 3:\n",
        "    return 'Brooklyn'\n",
        "  # Write your code here!\n",
        "  raise ValueError(f\"{num} does not correspond to a NYC borough\")\n",
        "\n",
        "\n",
        "# Let's try out the function here. \n",
        "print(get_borough_name(3))"
      ],
      "execution_count": 0,
      "outputs": []
    },
    {
      "metadata": {
        "id": "FlxPvERquv-H",
        "colab_type": "text"
      },
      "cell_type": "markdown",
      "source": [
        "### Things to try\n",
        "\n",
        "* Try removing two spaces of indentation from the first `return` statement. What happens?\n",
        "* There's more than one way to write the `get_borough_name` function. Another way to implement it might involve [Python dictionaries](https://docs.python.org/3/tutorial/datastructures.html#dictionaries), known as \"dicts\" for short. You could try implementing the same function using dicts.\n",
        "* What happens when you pass a number to `get_borough_name` that doesn't correspond to a borough number?\n",
        "* Try clicking right after the opening parenthesis in `get_borough_name(3)` and press `Tab`. Where does that information come from?\n",
        "\n",
        "### Things to remember\n",
        "\n",
        "* Indentation in Python has *semantic meaning*, which is unlike a lot of other programming languages, which frequently use syntax like curly braces to communicate the same kind of information to the computer. \n",
        "* An [exception](https://docs.python.org/3/tutorial/errors.html) is how errors are propagated in Python code. It's considered a best practice to `raise` them with an informative message when your code encounters an error. It's also possible to \"catch\" exceptions in a [`try...except` clause](https://docs.python.org/3/tutorial/errors.html#handling-exceptions), thereby adding [fault tolerance](https://en.wikipedia.org/wiki/Fault_tolerance) to your program.\n",
        "* The documentation embedded in the first part of a function's source code is called its docstring."
      ]
    },
    {
      "metadata": {
        "id": "Myc9Jv14x2m3",
        "colab_type": "text"
      },
      "cell_type": "markdown",
      "source": [
        "## Challenge: create a padded BBL\n",
        "\n",
        "BBLs can be represented in a variety of ways. Sometimes they're presented in a 10-digit padded format, where the block number consists of five digits left-padded by leading zeroes and the lot number consists of four similar digits. For example, the padded BBL representation of 150 Court Street is `3002920026`.\n",
        "\n",
        "While BBLs are frequently mentioned in NYC data sources, they're not always represented in the same way, so you might end up needing to translate between them. Can you write a function that, given the borough, block, and lot number as distinct arguments, uses Python's [`zfill`](https://docs.python.org/3/library/stdtypes.html#str.zfill) to return the BBL's padded representation? You may need to use [`str`](https://docs.python.org/3/library/stdtypes.html#str) to convert the arguments from integers into strings."
      ]
    },
    {
      "metadata": {
        "id": "Zl0LTcDBz9oT",
        "colab_type": "code",
        "colab": {}
      },
      "cell_type": "code",
      "source": [
        "def to_padded_bbl(borough, block, lot):\n",
        "  \"Convert the given NYC BBL to a padded BBL.\"\n",
        "\n",
        "  # Write your code here, and change the return statement below.\n",
        "  return '???'\n",
        "\n",
        "\n",
        "# Let's try out the function here.\n",
        "print(to_padded_bbl(3, 292, 26))"
      ],
      "execution_count": 0,
      "outputs": []
    },
    {
      "metadata": {
        "id": "jPKWuuOx0zDG",
        "colab_type": "text"
      },
      "cell_type": "markdown",
      "source": [
        "## Challenge: parse a padded BBL\n",
        "\n",
        "Let's try going the other direction: write a function that, given a padded BBL, returns a [tuple](https://docs.python.org/3/tutorial/datastructures.html#tuples-and-sequences) consisting of its borough, block, and lot numbers.\n",
        "\n",
        "You will probably want to use Python's _slicing_ functionality (search for the word \"slicing\" in [An informal introduction to Python](https://docs.python.org/3/tutorial/introduction.html)) to divide the string into parts and [`int`](https://docs.python.org/3/library/functions.html#int) to convert the parts into integers."
      ]
    },
    {
      "metadata": {
        "id": "6bsmjtP21U81",
        "colab_type": "code",
        "colab": {}
      },
      "cell_type": "code",
      "source": [
        "def from_padded_bbl(bbl):\n",
        "  \"\"\"\n",
        "  Parse the given padded NYC BBL and return a 3-tuple\n",
        "  containing its borough, block, and lot numbers.\n",
        "  \"\"\"\n",
        "  \n",
        "  borough = 0\n",
        "  block = 0\n",
        "  lot = 0\n",
        "  # Write your code here!\n",
        "  return (borough, block, lot)\n",
        "\n",
        "\n",
        "# Let's try out the function here.\n",
        "print(from_padded_bbl('3002920026'))"
      ],
      "execution_count": 0,
      "outputs": []
    },
    {
      "metadata": {
        "id": "aoEt7ZGBcAPZ",
        "colab_type": "text"
      },
      "cell_type": "markdown",
      "source": [
        "## Making requests\n",
        "\n",
        "Python has lots of **packages**, or reusable chunks of functionality that you can build upon. One of those packages is called [requests](http://docs.python-requests.org/en/master/) and it makes it really easy to make network requests to fetch open data.\n",
        "\n",
        "Let's use the [NYC Planning Labs GeoSearch API](https://geosearch.planninglabs.nyc/docs/) to find information about an address!"
      ]
    },
    {
      "metadata": {
        "id": "Rt6ken-FJxeh",
        "colab_type": "code",
        "colab": {}
      },
      "cell_type": "code",
      "source": [
        "import requests\n",
        "\n",
        "address = '2010 seventh ave'\n",
        "\n",
        "response = requests.get(\"https://geosearch.planninglabs.nyc/v1/search\", params={'text': address})\n",
        "\n",
        "print(f\"API status code is {response.status_code}.\")\n",
        "\n",
        "data = response.json()"
      ],
      "execution_count": 0,
      "outputs": []
    },
    {
      "metadata": {
        "id": "RTX_YaKaf58O",
        "colab_type": "text"
      },
      "cell_type": "markdown",
      "source": [
        "Now let's see what we got, using Python's built-in [`pprint`](https://docs.python.org/3/library/pprint.html) module to format it in a way that's easier to read:"
      ]
    },
    {
      "metadata": {
        "id": "bPXx3UcRgf0e",
        "colab_type": "code",
        "colab": {}
      },
      "cell_type": "code",
      "source": [
        "import pprint\n",
        "\n",
        "pprint.pprint(data)"
      ],
      "execution_count": 0,
      "outputs": []
    },
    {
      "metadata": {
        "id": "jH0LPrQ8gmV7",
        "colab_type": "text"
      },
      "cell_type": "markdown",
      "source": [
        "That's a lot of data! Let's just get the human-readable addresses for all the geo features our API found:"
      ]
    },
    {
      "metadata": {
        "id": "-MVKYjvcJ0R6",
        "colab_type": "code",
        "colab": {}
      },
      "cell_type": "code",
      "source": [
        "for feature in data['features']:\n",
        "  props = feature['properties']\n",
        "  name = props['name']\n",
        "  borough = props['borough']\n",
        "  bbl = props['pad_bbl']\n",
        "  print(f\"{name} in {borough} has BBL {bbl}.\")\n"
      ],
      "execution_count": 0,
      "outputs": []
    },
    {
      "metadata": {
        "id": "LLFaEbkZzvUm",
        "colab_type": "text"
      },
      "cell_type": "markdown",
      "source": [
        "Note that we've assigned the variable `bbl` to the padded BBL of the last geo feature we found. we can now use that to look up lots of information about it in NYCDB. "
      ]
    },
    {
      "metadata": {
        "id": "bw8ZMsxF0MQA",
        "colab_type": "text"
      },
      "cell_type": "markdown",
      "source": [
        "## Talking to NYCDB\n",
        "\n",
        "For our workshop, we have a slightly outdated sandbox instance of NYCDB hosted at the following URL:"
      ]
    },
    {
      "metadata": {
        "id": "YvrWZ74u0dmE",
        "colab_type": "code",
        "colab": {}
      },
      "cell_type": "code",
      "source": [
        "NYCDB_URL = \"paste in the URL here!\""
      ],
      "execution_count": 0,
      "outputs": []
    },
    {
      "metadata": {
        "id": "6ogUqvDJ0mK9",
        "colab_type": "text"
      },
      "cell_type": "markdown",
      "source": [
        "The Jupyter Notebook environment doesn't have the Python package we need to talk to NYCDB, `psycopg2`, but we can install it:"
      ]
    },
    {
      "metadata": {
        "id": "ErgbS_E-w8d3",
        "colab_type": "code",
        "colab": {}
      },
      "cell_type": "code",
      "source": [
        "!pip install psycopg2-binary"
      ],
      "execution_count": 0,
      "outputs": []
    },
    {
      "metadata": {
        "id": "MWGX7odl1AUC",
        "colab_type": "text"
      },
      "cell_type": "markdown",
      "source": [
        "Now we can connect to NYCDB:"
      ]
    },
    {
      "metadata": {
        "id": "MpZ0mBJmxARE",
        "colab_type": "code",
        "colab": {}
      },
      "cell_type": "code",
      "source": [
        "import psycopg2\n",
        "\n",
        "nycdb = psycopg2.connect(NYCDB_URL)\n"
      ],
      "execution_count": 0,
      "outputs": []
    },
    {
      "metadata": {
        "id": "o9e3vl3U1cO3",
        "colab_type": "text"
      },
      "cell_type": "markdown",
      "source": [
        "And we can use our connection to construct an SQL query that retrieves the number of HPD violations for the building:"
      ]
    },
    {
      "metadata": {
        "id": "t_Mn-s3YxGw8",
        "colab_type": "code",
        "colab": {}
      },
      "cell_type": "code",
      "source": [
        "with nycdb.cursor() as cur:\n",
        "  cur.execute(f\"SELECT COUNT(*) FROM hpd_violations WHERE bbl = '{bbl}'\")\n",
        "  print(cur.fetchone())\n"
      ],
      "execution_count": 0,
      "outputs": []
    },
    {
      "metadata": {
        "id": "FEz_3Eq23KeV",
        "colab_type": "text"
      },
      "cell_type": "markdown",
      "source": [
        "If you want to play around more with NYCDB, you can learn more about its schema by looking at its [`datasets.yml`](https://github.com/aepyornis/nyc-db/blob/master/src/nycdb/datasets.yml) file.\n",
        "\n",
        "**Note 1:** The above code snippet featured a quick and readable way to create a SQL query with data supplied from another part of our program, but it's important not to use that technique with untrusted user data, as it won't fare well with [little bobby tables](https://xkcd.com/327/).\n",
        "\n",
        "**Note 2:** It's important to remember that there isn't actually a one-to-one mapping between BBLs and buildings.  For example, smaller buildings may share a lot with each other."
      ]
    },
    {
      "metadata": {
        "id": "bD663JLc2lCH",
        "colab_type": "text"
      },
      "cell_type": "markdown",
      "source": [
        "## Challenge: write a function that combines all the things\n",
        "\n",
        "Write a function that, given an address, returns the number of HPD violations for the BBL it's in."
      ]
    },
    {
      "metadata": {
        "id": "Kqw8xPzA2tEj",
        "colab_type": "code",
        "colab": {}
      },
      "cell_type": "code",
      "source": [
        "def get_hpd_violations(address):\n",
        "  \"Return the number of HPD violations for the BBL the given address is in.\"\n",
        "\n",
        "  count = 0\n",
        "  # Write code here!\n",
        "  return count\n",
        "\n",
        "\n",
        "# Let's try out the function here. \n",
        "print(get_hpd_violations(\"247 west 116th street\"))"
      ],
      "execution_count": 0,
      "outputs": []
    },
    {
      "metadata": {
        "id": "p6luzLVT6cUm",
        "colab_type": "text"
      },
      "cell_type": "markdown",
      "source": [
        "## Challenge: read some Python code\n",
        "\n",
        "Python is famous for its readability, and you now know enough of it to understand some real code!\n",
        "\n",
        "Consider taking a look at the [421a exemption scraper](https://github.com/toolness/nyc-421a-xls). Or, since you have some experience dealing with BBLs, take a look at [nycdb's `bbl.py`](https://github.com/aepyornis/nyc-db/blob/master/src/nycdb/bbl.py) or the [JustFix tenant app's `nyc.py`](https://github.com/JustFixNYC/tenants2/blob/master/project/util/nyc.py)."
      ]
    }
  ]
}